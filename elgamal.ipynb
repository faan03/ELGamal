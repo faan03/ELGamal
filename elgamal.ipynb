{
  "nbformat": 4,
  "nbformat_minor": 0,
  "metadata": {
    "colab": {
      "name": "elgamal.ipynb",
      "provenance": [],
      "collapsed_sections": [],
      "authorship_tag": "ABX9TyPRWVGA3hb5sTgTLaksKiJh",
      "include_colab_link": true
    },
    "kernelspec": {
      "name": "python3",
      "display_name": "Python 3"
    },
    "language_info": {
      "name": "python"
    }
  },
  "cells": [
    {
      "cell_type": "markdown",
      "metadata": {
        "id": "view-in-github",
        "colab_type": "text"
      },
      "source": [
        "<a href=\"https://colab.research.google.com/github/faan03/ELGamal/blob/main/elgamal.ipynb\" target=\"_parent\"><img src=\"https://colab.research.google.com/assets/colab-badge.svg\" alt=\"Open In Colab\"/></a>"
      ]
    },
    {
      "cell_type": "code",
      "execution_count": null,
      "metadata": {
        "id": "rUaGwyPEpjcf"
      },
      "outputs": [],
      "source": [
        "import gensafeprime as gen\n",
        "#!pip install gensafeprime\n",
        "import random as random\n",
        "class Zq:\n",
        "    \n",
        "    def __init__(self,q):\n",
        "        self.q = q        \n",
        "\n",
        "    def __modulo (self,a,b):\n",
        "        return a%b # residuo div entera entre a y b\n",
        "\n",
        "    def suma(self,a,b):\n",
        "        r= self.__modulo((a+b),self.q)\n",
        "        return r\n",
        "\n",
        "    def resta(self,a,b):\n",
        "        r = self.__modulo (a-b,self.q)\n",
        "        return r\n",
        "\n",
        "    def producto (self,a,b):\n",
        "        r= self.__modulo(a*b,self.q)\n",
        "        return r \n",
        "\n",
        "    def division (self,a,b):\n",
        "        invM_b= self.invMulti(b)\n",
        "        r= self.__modulo(a*invM_b,self.q)\n",
        "        return r\n",
        "\n",
        "    def potencia (self,base, potencia):   \n",
        "        r= pow(base,potencia,self.q)\n",
        "        return r\n",
        "\n",
        "    def invMulti(self,a):\n",
        "        r= self.__gcdExtended(a,self.q)[1]\n",
        "        return r    \n",
        "\n",
        "    def __gcdExtended(self,a, b): \n",
        "    # Base Case \n",
        "        if a == 0 :  \n",
        "            return b,0,1             \n",
        "        gcd,x1,y1 = self.__gcdExtended(b%a, a) \n",
        "        # Update x and y using results of recursive \n",
        "        # call \n",
        "        x = y1 - (b//a) * x1 \n",
        "        y = x1      \n",
        "        return gcd,x,y        \n",
        "\n",
        "    def getRandomElement(self):\n",
        "        return random.randint(0,self.q-1)\n",
        "\n",
        "    def getRandomNotZeroElement(self):\n",
        "        return random.randint(1,self.q-1)    \n",
        "\n",
        "class elgamal:\n",
        "    \n",
        "    def __init__(self,p,q):\n",
        "        self.p=p\n",
        "        self.q=q\n",
        "        self.zp = Zq(p)\n",
        "        self.__getGenerator()        \n",
        "        \n",
        "\n",
        "    def __getGenerator(self):\n",
        "        ##toma un elemento entre 1 y p-1        \n",
        "        element= self.zp.getRandomElement()\n",
        "        while ((self.zp.potencia (element,2)==1) or (self.zp.potencia(element,self.q)!=1)):\n",
        "            element= self.zp.getRandomElement()\n",
        "        self.generator = element\n",
        "\n",
        "    def generateKeyPair(self):\n",
        "        ##toma un elemento entre 1 - q-1\n",
        "        sk =  random.randint(1,self.q-1)\n",
        "        pk = self.zp.potencia (self.generator,sk)\n",
        "        return (sk,pk)\n",
        "\n",
        "    def E (self,pk,m): #m elemento en zp    \n",
        "        k=  random.randint(1,self.q-1)    \n",
        "        c1= self.zp.potencia(self.generator,k)\n",
        "        c2 = self.zp.potencia(pk,k)\n",
        "        c2 = self.zp.producto(c2,m)\n",
        "        return (c1,c2)\n",
        "    \n",
        "    def D(self, sk,c): #c =c1,c2  \n",
        "        c1= c[0]\n",
        "        c2= c[1]\n",
        "        return self.zp.division(c2, self.zp.potencia(c1,sk))\n",
        "\n"
      ]
    },
    {
      "cell_type": "code",
      "source": [
        "p = gen.generate(100)\n",
        "q=((p-1)//2)\n",
        "\n",
        "eg = elgamal(p,q)\n",
        "\n",
        "(sk, pk) = eg.generateKeyPair()\n",
        "\n",
        "m=5\n",
        "\n",
        "c= eg.E(pk,m)\n",
        "print(c)\n",
        "\n",
        "print(eg.D(sk,c))\n",
        "\n",
        "\n"
      ],
      "metadata": {
        "colab": {
          "base_uri": "https://localhost:8080/"
        },
        "id": "Zh5G7zjcpxNE",
        "outputId": "4ab918d4-dbaf-48ad-abfe-61ce1a657bf8"
      },
      "execution_count": null,
      "outputs": [
        {
          "output_type": "stream",
          "name": "stdout",
          "text": [
            "(107206119634024932232346993350, 793756429510619607980785879832)\n",
            "5\n"
          ]
        }
      ]
    }
  ]
}